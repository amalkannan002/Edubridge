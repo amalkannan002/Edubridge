{
 "cells": [
  {
   "cell_type": "markdown",
   "id": "1d89209a",
   "metadata": {},
   "source": [
    "BASIC PROGRAMS"
   ]
  },
  {
   "cell_type": "code",
   "execution_count": 1,
   "id": "5f27454c",
   "metadata": {},
   "outputs": [
    {
     "name": "stdout",
     "output_type": "stream",
     "text": [
      "Enter Two digit number :42\n",
      "Reverse : 24\n"
     ]
    }
   ],
   "source": [
    "#REVERSE OF A NUMBER\n",
    "\n",
    "num=int(input(\"Enter Two digit number :\"))\n",
    "second=num%10\n",
    "first=num//10\n",
    "revers=(second*10)+first\n",
    "print(\"Reverse :\",revers)"
   ]
  },
  {
   "cell_type": "code",
   "execution_count": 2,
   "id": "c03f8292",
   "metadata": {},
   "outputs": [
    {
     "name": "stdout",
     "output_type": "stream",
     "text": [
      "Enter a number :10\n",
      "Enter power :2\n",
      "100\n"
     ]
    }
   ],
   "source": [
    "#POWER OF A NUMBER\n",
    "\n",
    "numb=int(input(\"Enter a number :\"))\n",
    "pow=int(input(\"Enter power :\"))\n",
    "print(numb**pow)"
   ]
  },
  {
   "cell_type": "code",
   "execution_count": null,
   "id": "540e8584",
   "metadata": {},
   "outputs": [],
   "source": [
    "#perimeter of rectangle\n",
    "\n",
    "\n",
    "l=int(input(\"Enter length :\"))\n",
    "b=int(input(\"Enter breadth :\"))\n",
    "perimeter=2*(l+b)\n",
    "print(perimeter)\n",
    "\n",
    "\n",
    "\n"
   ]
  },
  {
   "cell_type": "code",
   "execution_count": 1,
   "id": "5905de51",
   "metadata": {},
   "outputs": [
    {
     "name": "stdout",
     "output_type": "stream",
     "text": [
      "Enter radius :8\n",
      "Perimeter of circle : 50.24\n"
     ]
    }
   ],
   "source": [
    "# Perimeter of circle\n",
    "\n",
    "\n",
    "r=int(input(\"Enter radius :\"))\n",
    "p=2*3.14*r\n",
    "print(\"Perimeter of circle :\",p)"
   ]
  },
  {
   "cell_type": "code",
   "execution_count": 2,
   "id": "2074edc2",
   "metadata": {},
   "outputs": [
    {
     "name": "stdout",
     "output_type": "stream",
     "text": [
      "Enter radius :24\n",
      "Volume of sphere 57876.48\n"
     ]
    }
   ],
   "source": [
    "#volume of sphere\n",
    "\n",
    "\n",
    "r=int(input(\"Enter radius :\"))\n",
    "v=(4*3.14*r*r*r)/3\n",
    "print(\"Volume of sphere\",v)\n"
   ]
  },
  {
   "cell_type": "code",
   "execution_count": 3,
   "id": "288436ff",
   "metadata": {},
   "outputs": [
    {
     "name": "stdout",
     "output_type": "stream",
     "text": [
      "Enter radius :24\n",
      "Volume of Cube 13824\n"
     ]
    }
   ],
   "source": [
    "#volume of cube\n",
    "\n",
    "r=int(input(\"Enter radius :\"))\n",
    "v=r*r*r\n",
    "print(\"Volume of Cube\",v)"
   ]
  },
  {
   "cell_type": "code",
   "execution_count": null,
   "id": "b7dc81c8",
   "metadata": {},
   "outputs": [],
   "source": []
  }
 ],
 "metadata": {
  "kernelspec": {
   "display_name": "Python 3",
   "language": "python",
   "name": "python3"
  },
  "language_info": {
   "codemirror_mode": {
    "name": "ipython",
    "version": 3
   },
   "file_extension": ".py",
   "mimetype": "text/x-python",
   "name": "python",
   "nbconvert_exporter": "python",
   "pygments_lexer": "ipython3",
   "version": "3.8.8"
  }
 },
 "nbformat": 4,
 "nbformat_minor": 5
}
