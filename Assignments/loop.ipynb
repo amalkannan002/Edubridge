{
 "cells": [
  {
   "cell_type": "markdown",
   "id": "f8e5244a",
   "metadata": {},
   "source": [
    "LOOP"
   ]
  },
  {
   "cell_type": "code",
   "execution_count": 1,
   "id": "fd19c33c",
   "metadata": {},
   "outputs": [
    {
     "name": "stdout",
     "output_type": "stream",
     "text": [
      "2\n",
      "4\n",
      "6\n",
      "8\n",
      "10\n",
      "12\n",
      "14\n",
      "16\n",
      "18\n",
      "20\n",
      "22\n",
      "24\n",
      "26\n",
      "28\n",
      "30\n",
      "32\n",
      "34\n",
      "36\n",
      "38\n",
      "40\n",
      "42\n",
      "44\n",
      "46\n",
      "48\n",
      "50\n",
      "52\n",
      "54\n",
      "56\n",
      "58\n",
      "60\n",
      "62\n",
      "64\n",
      "66\n",
      "68\n",
      "70\n",
      "72\n",
      "74\n",
      "76\n",
      "78\n",
      "80\n",
      "82\n",
      "84\n",
      "86\n",
      "88\n",
      "90\n",
      "92\n",
      "94\n",
      "96\n",
      "98\n"
     ]
    }
   ],
   "source": [
    "# To print even number from1 to 100\n",
    "\n",
    "i=1\n",
    "while i<100:\n",
    "    if i%2==0:\n",
    "        print(i)\n",
    "        \n",
    "    i=i+1"
   ]
  },
  {
   "cell_type": "code",
   "execution_count": 2,
   "id": "b11052ba",
   "metadata": {},
   "outputs": [
    {
     "name": "stdout",
     "output_type": "stream",
     "text": [
      "Enter  number: 50\n",
      "1275\n"
     ]
    }
   ],
   "source": [
    "#sum of  n numbers\n",
    "\n",
    "i=1\n",
    "sum=0\n",
    "n=int(input(\"Enter  number: \"))\n",
    "while i<=n:\n",
    "    sum=sum+i\n",
    "    i=i+1\n",
    "print(sum)"
   ]
  },
  {
   "cell_type": "code",
   "execution_count": 3,
   "id": "c451f2ba",
   "metadata": {},
   "outputs": [
    {
     "name": "stdout",
     "output_type": "stream",
     "text": [
      "Enter number :35\n",
      "1\n",
      "2\n",
      "3\n",
      "4\n",
      "5\n",
      "6\n",
      "7\n",
      "8\n",
      "9\n",
      "10\n",
      "11\n",
      "12\n",
      "13\n",
      "14\n",
      "15\n",
      "16\n",
      "17\n",
      "18\n",
      "19\n",
      "20\n",
      "21\n",
      "22\n",
      "23\n",
      "24\n",
      "25\n",
      "26\n",
      "27\n",
      "28\n",
      "29\n",
      "30\n",
      "31\n",
      "32\n",
      "33\n",
      "34\n"
     ]
    }
   ],
   "source": [
    "# To print n numbers\n",
    "\n",
    "i=1\n",
    "n=int(input(\"Enter number :\"))\n",
    "while i<+n:\n",
    "    print(i)\n",
    "    i=i+1"
   ]
  },
  {
   "cell_type": "code",
   "execution_count": 5,
   "id": "5589b190",
   "metadata": {},
   "outputs": [
    {
     "name": "stdout",
     "output_type": "stream",
     "text": [
      "Enter a number :7\n",
      "Enter limit :10\n",
      "Table of 7 is\n",
      "1 * 7 = 7\n",
      "2 * 7 = 14\n",
      "3 * 7 = 21\n",
      "4 * 7 = 28\n",
      "5 * 7 = 35\n",
      "6 * 7 = 42\n",
      "7 * 7 = 49\n",
      "8 * 7 = 56\n",
      "9 * 7 = 63\n",
      "10 * 7 = 70\n"
     ]
    }
   ],
   "source": [
    "#To print Multiple table of number\n",
    "\n",
    "i=1\n",
    "num=int(input(\"Enter a number :\"))\n",
    "lim=int(input(\"Enter limit :\"))\n",
    "print(\"Table of\",num,\"is\")\n",
    "while i<=lim:\n",
    "    print(i,\"*\",num,\"=\",num*i)\n",
    "    i=i+1"
   ]
  },
  {
   "cell_type": "code",
   "execution_count": 6,
   "id": "cab4f57f",
   "metadata": {},
   "outputs": [
    {
     "name": "stdout",
     "output_type": "stream",
     "text": [
      "Enter number :34\n",
      "295232799039604140847618609643520000000\n"
     ]
    }
   ],
   "source": [
    "#To print factorial of number\n",
    "\n",
    "i=1\n",
    "fact=1\n",
    "num=int(input(\"Enter number :\"))\n",
    "while i<=num:\n",
    "    fact=fact*i\n",
    "    i=i+1\n",
    "\n",
    "print(fact)"
   ]
  },
  {
   "cell_type": "code",
   "execution_count": 7,
   "id": "7435c108",
   "metadata": {},
   "outputs": [
    {
     "name": "stdout",
     "output_type": "stream",
     "text": [
      "Enter number :5\n",
      "Enter limit :10\n",
      "Multiple Table of  5 is \n",
      "1 * 5 = 5\n",
      "2 * 5 = 10\n",
      "3 * 5 = 15\n",
      "4 * 5 = 20\n",
      "5 * 5 = 25\n",
      "6 * 5 = 30\n",
      "7 * 5 = 35\n",
      "8 * 5 = 40\n",
      "9 * 5 = 45\n",
      "10 * 5 = 50\n"
     ]
    }
   ],
   "source": [
    "#Multiple table using for loop\n",
    "\n",
    "num=int(input(\"Enter number :\"))\n",
    "limit=int(input(\"Enter limit :\"))\n",
    "print(\"Multiple Table of \",num,\"is \")\n",
    "for i in range(1,limit+1):\n",
    "    print(i,\"*\",num,\"=\",i*num)"
   ]
  },
  {
   "cell_type": "code",
   "execution_count": 8,
   "id": "8ee621a6",
   "metadata": {},
   "outputs": [
    {
     "name": "stdout",
     "output_type": "stream",
     "text": [
      "Enter a number :65\n",
      "56\n"
     ]
    }
   ],
   "source": [
    "#Reverse of a number\n",
    "\n",
    "num=int(input(\"Enter a number :\"))\n",
    "rev=0\n",
    "while num>0:\n",
    "    rem=num%10\n",
    "    rev=rev*10+rem\n",
    "    num=num//10\n",
    "print(rev)  "
   ]
  },
  {
   "cell_type": "code",
   "execution_count": 9,
   "id": "79ea0dbe",
   "metadata": {},
   "outputs": [
    {
     "name": "stdout",
     "output_type": "stream",
     "text": [
      "Enter number of terms :12\n",
      "0\n",
      "1\n",
      "1\n",
      "2\n",
      "3\n",
      "5\n",
      "8\n",
      "13\n",
      "21\n",
      "34\n",
      "55\n",
      "89\n"
     ]
    }
   ],
   "source": [
    "# Fibonacii of number\n",
    "\n",
    "f1=0\n",
    "f2=1\n",
    "num=int(input(\"Enter number of terms :\"))\n",
    "print(f1)\n",
    "print(f2)\n",
    "\n",
    "for i in range(num-2):\n",
    "    f3=f1+f2\n",
    "    print(f3)\n",
    "    f1=f2\n",
    "    f2=f3\n",
    "    "
   ]
  },
  {
   "cell_type": "code",
   "execution_count": 10,
   "id": "b60221ff",
   "metadata": {},
   "outputs": [
    {
     "name": "stdout",
     "output_type": "stream",
     "text": [
      "Enter a number :234\n",
      "234 is  not Palindrome\n"
     ]
    }
   ],
   "source": [
    "#To check Palindrome or not\n",
    "\n",
    "num=int(input(\"Enter a number :\"))\n",
    "temp=num\n",
    "rev=0\n",
    "while num>0:\n",
    "    rem=num%10\n",
    "    rev=rev*10+rem\n",
    "    num=num//10\n",
    "if rev==temp:\n",
    "    print(temp,\"is Palindrome\")\n",
    "else :\n",
    "    print(temp,\"is  not Palindrome\")"
   ]
  },
  {
   "cell_type": "code",
   "execution_count": 11,
   "id": "9b251210",
   "metadata": {},
   "outputs": [
    {
     "name": "stdout",
     "output_type": "stream",
     "text": [
      "Enter number :65\n",
      "65 is not Armstrong number\n"
     ]
    }
   ],
   "source": [
    "# To check Armstrong number or not\n",
    "\n",
    "num=int(input(\"Enter number :\"))\n",
    "temp=num\n",
    "num1=num\n",
    "dig=0\n",
    "while num>0:\n",
    "    num=num//10\n",
    "    dig=dig+1\n",
    "sum=0\n",
    "for i in range(dig):\n",
    "    digit=temp%10\n",
    "    sum=sum+digit**dig\n",
    "    temp=temp//10\n",
    "if num1==sum:\n",
    "    print(num1,\"is an Armstrong number\")\n",
    "else :\n",
    "    print(num1,\"is not Armstrong number\")\n",
    "    "
   ]
  },
  {
   "cell_type": "code",
   "execution_count": 12,
   "id": "7a92d33a",
   "metadata": {},
   "outputs": [
    {
     "name": "stdout",
     "output_type": "stream",
     "text": [
      "Enter number :643\n",
      "The number is Prime\n"
     ]
    }
   ],
   "source": [
    "# Whether given number is prime or not\n",
    "\n",
    "num=int(input(\"Enter number :\"))\n",
    "count=0\n",
    "for i in range (2,num):\n",
    "    if num%i==0:\n",
    "        count=1\n",
    "if count==1:\n",
    "    print(\"The number is not Prime\")\n",
    "else :\n",
    "    print(\"The number is Prime\")"
   ]
  },
  {
   "cell_type": "code",
   "execution_count": 13,
   "id": "e395701c",
   "metadata": {},
   "outputs": [
    {
     "name": "stdout",
     "output_type": "stream",
     "text": [
      "\n",
      "*\n",
      "**\n",
      "***\n",
      "****\n"
     ]
    }
   ],
   "source": [
    "#star pattern\n",
    "\n",
    "for i in range(5):#outer loop\n",
    "    for j in range(i):#inner loop\n",
    "        print(\"*\",end=\"\")\n",
    "    print()"
   ]
  },
  {
   "cell_type": "code",
   "execution_count": 14,
   "id": "52f59d4c",
   "metadata": {},
   "outputs": [
    {
     "name": "stdout",
     "output_type": "stream",
     "text": [
      "\n",
      "1\n",
      "22\n",
      "333\n",
      "4444\n",
      "55555\n"
     ]
    }
   ],
   "source": [
    "#Number pattern\n",
    "\n",
    "for i in range(6):\n",
    "    for j in range(i):\n",
    "        print(i,end=\"\")\n",
    "    print()"
   ]
  },
  {
   "cell_type": "code",
   "execution_count": null,
   "id": "c2383b83",
   "metadata": {},
   "outputs": [],
   "source": []
  }
 ],
 "metadata": {
  "kernelspec": {
   "display_name": "Python 3",
   "language": "python",
   "name": "python3"
  },
  "language_info": {
   "codemirror_mode": {
    "name": "ipython",
    "version": 3
   },
   "file_extension": ".py",
   "mimetype": "text/x-python",
   "name": "python",
   "nbconvert_exporter": "python",
   "pygments_lexer": "ipython3",
   "version": "3.8.8"
  }
 },
 "nbformat": 4,
 "nbformat_minor": 5
}
