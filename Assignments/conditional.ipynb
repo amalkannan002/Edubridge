{
 "cells": [
  {
   "cell_type": "markdown",
   "id": "91d2a72e",
   "metadata": {},
   "source": [
    "CONDITIONAL PROGRAMS"
   ]
  },
  {
   "cell_type": "code",
   "execution_count": 1,
   "id": "7b5e3e50",
   "metadata": {},
   "outputs": [
    {
     "name": "stdout",
     "output_type": "stream",
     "text": [
      "Enter number in between 1 to 7 :5\n",
      "Thursday\n"
     ]
    }
   ],
   "source": [
    "#Pgm to print days in week\n",
    "\n",
    "x=int(input(\"Enter number in between 1 to 7 :\"))\n",
    "if x==1:\n",
    "    print(\"Sunday\")\n",
    "elif x==2:\n",
    "    print(\"Monday\")\n",
    "elif x==3:\n",
    "    print(\"Tuesday\")\n",
    "elif x==4:\n",
    "    print(\"Wednesday\")\n",
    "elif x==5:\n",
    "    print(\"Thursday\")\n",
    "elif x==6:\n",
    "    print(\"Friday\")\n",
    "else:\n",
    "    print(\"Saturday\")"
   ]
  },
  {
   "cell_type": "code",
   "execution_count": 2,
   "id": "f82414e4",
   "metadata": {},
   "outputs": [
    {
     "name": "stdout",
     "output_type": "stream",
     "text": [
      "Enter the salary :8000\n",
      "No bonus\n"
     ]
    }
   ],
   "source": [
    "#give 10% bonus if salary greater than 10000\n",
    "\n",
    "n=int(input(\"Enter the salary :\"))\n",
    "if n>=10000:\n",
    "    print(n+((n*10)/100))\n",
    "else:\n",
    "    print(\"No bonus\")"
   ]
  },
  {
   "cell_type": "code",
   "execution_count": 3,
   "id": "76c522fd",
   "metadata": {},
   "outputs": [
    {
     "name": "stdout",
     "output_type": "stream",
     "text": [
      "Enter your mark:65\n",
      "Grade is C\n"
     ]
    }
   ],
   "source": [
    "#pgm to print grades based on marks\n",
    "\n",
    "mark=float(input(\"Enter your mark:\"))\n",
    "if mark>90:\n",
    "    print(\"Grade is A\")\n",
    "elif mark>=75 and mark<90:\n",
    "    print(\"Grade is B\")\n",
    "elif mark>=65 and mark<75:\n",
    "    print(\"Grade is C\")\n",
    "elif mark>=50 and mark<65:\n",
    "    print(\"Grade is D\")\n",
    "else :\n",
    "    print(\" Fail\")"
   ]
  },
  {
   "cell_type": "code",
   "execution_count": 4,
   "id": "a8ddab91",
   "metadata": {},
   "outputs": [
    {
     "name": "stdout",
     "output_type": "stream",
     "text": [
      "Enter 3 numbers :32\n",
      "45\n",
      "65\n",
      "32 is smaller\n"
     ]
    }
   ],
   "source": [
    "#Io print smallest among 3 numbers\n",
    "\n",
    "n1=int(input(\"Enter 3 numbers :\"))\n",
    "n2=int(input())\n",
    "n3=int(input())\n",
    "if n1<n2:\n",
    "    if n1<n3:\n",
    "        print(n1,\"is smaller\")\n",
    "    else:\n",
    "        print(n3,\"is smaller\")\n",
    "else:\n",
    "    if n2<n3:\n",
    "        print(n2,\" is smaller\")\n",
    "    else:\n",
    "        print(n3,\" is smaller\")"
   ]
  },
  {
   "cell_type": "code",
   "execution_count": 5,
   "id": "1380b32c",
   "metadata": {},
   "outputs": [
    {
     "name": "stdout",
     "output_type": "stream",
     "text": [
      "Enter First Number 25\n",
      "Enter operators from [+, -, *, /, //, %]*\n",
      "Enter Second Number 12\n",
      "300\n"
     ]
    }
   ],
   "source": [
    "# print calculator\n",
    "\n",
    "num1=int(input(\"Enter First Number \"))\n",
    "op=input(\"Enter operators from [+, -, *, /, //, %]\")\n",
    "num2=int(input(\"Enter Second Number \"))\n",
    "if op=='+':\n",
    "    print(num1+num2)\n",
    "elif op=='-':\n",
    "    print(num1-num2)\n",
    "elif op=='*':\n",
    "    print(num1*num2)\n",
    "elif op=='/':\n",
    "    print(num1/num2)\n",
    "elif op=='//':\n",
    "    print(num1/num2)\n",
    "elif op=='%':\n",
    "    print(num1%num2)\n",
    "else:\n",
    "    print(\"Please enter provided operators\")"
   ]
  },
  {
   "cell_type": "code",
   "execution_count": 6,
   "id": "5a8139c9",
   "metadata": {},
   "outputs": [
    {
     "name": "stdout",
     "output_type": "stream",
     "text": [
      "Enter a number :43\n",
      "43 is odd number\n"
     ]
    }
   ],
   "source": [
    "# To check a number is even or odd\n",
    "\n",
    "m=int(input(\"Enter a number :\"))\n",
    "if m%2==0:\n",
    "    print(m,\"is a even number\")\n",
    "else:\n",
    "    print(m,\"is odd number\")"
   ]
  },
  {
   "cell_type": "code",
   "execution_count": 7,
   "id": "b348b03e",
   "metadata": {},
   "outputs": [
    {
     "name": "stdout",
     "output_type": "stream",
     "text": [
      "Enter year :2004\n",
      "2004 is a Leap Year\n"
     ]
    }
   ],
   "source": [
    "#To check leap year or not\n",
    "\n",
    "year=int(input(\"Enter year :\"))\n",
    "if (year%4)==0:\n",
    "    print(year,\"is a Leap Year\")\n",
    "elif (year%100)!=0:\n",
    "    print(year,\" is not a Leap Year\")\n",
    "elif (year%400==0):\n",
    "    print(year,\"is a Leap Year\")"
   ]
  },
  {
   "cell_type": "code",
   "execution_count": 8,
   "id": "f3d9787e",
   "metadata": {},
   "outputs": [
    {
     "name": "stdout",
     "output_type": "stream",
     "text": [
      "Enter 3 numbers :24\n",
      "54\n",
      "76\n",
      "76  is greater\n"
     ]
    }
   ],
   "source": [
    "# To print greatest among 3 numbers\n",
    "\n",
    "n1=int(input(\"Enter 3 numbers :\"))\n",
    "n2=int(input())\n",
    "n3=int(input())\n",
    "if n1>n2:\n",
    "    if n1>n3:\n",
    "        print(n1,\"is greater\")\n",
    "    else:\n",
    "        print(n3,\"is greater\")\n",
    "else:\n",
    "    if n2>n3:\n",
    "        print(n2,\" is greater\")\n",
    "    else:\n",
    "        print(n3,\" is greater\")"
   ]
  },
  {
   "cell_type": "code",
   "execution_count": 11,
   "id": "cc097f56",
   "metadata": {},
   "outputs": [
    {
     "name": "stdout",
     "output_type": "stream",
     "text": [
      "Enter 3 numbers :23\n",
      "34\n",
      "56\n",
      "23   34   56\n"
     ]
    }
   ],
   "source": [
    "#To print 3 numbers in ascending order\n",
    "\n",
    "\n",
    "n1=int(input(\"Enter 3 numbers :\"))\n",
    "n2=int(input())\n",
    "n3=int(input())\n",
    "if n1<n2 and n2<n3:\n",
    "    print(n1,\" \",n2,\" \",n3)\n",
    "elif n1<n2 and n1<n3:\n",
    "     print(n1,\" \",n3,\" \",n2)\n",
    "elif n2<n1 and n1<n3:\n",
    "     print(n2,\" \",n1,\" \",n3)\n",
    "elif n2<n1 and n2<n3:\n",
    "     print(n2,\" \",n3,\" \",n1)\n",
    "elif n3<n1 and n1<n2:\n",
    "     print(n3,\" \",n1,\" \",n1)\n",
    "else :\n",
    "     print(n3,\" \",n2,\" \",n1)\n"
   ]
  },
  {
   "cell_type": "code",
   "execution_count": 12,
   "id": "7a00e5a7",
   "metadata": {},
   "outputs": [
    {
     "name": "stdout",
     "output_type": "stream",
     "text": [
      "Enter number in between 1 to 12 :8\n",
      "Auguest\n"
     ]
    }
   ],
   "source": [
    "# Print months in a year\n",
    "\n",
    "mnt=int(input(\"Enter number in between 1 to 12 :\"))\n",
    "if mnt==1:\n",
    "    print(\"January\")\n",
    "elif mnt==2:\n",
    "    print(\"February\")\n",
    "elif mnt==3:\n",
    "    print(\"March\")\n",
    "elif mnt==4:\n",
    "    print(\"April\")\n",
    "elif mnt==5:\n",
    "    print(\"May\")\n",
    "elif mnt==6:\n",
    "    print(\"June\")\n",
    "elif mnt==7:\n",
    "    print(\"July\")\n",
    "elif mnt==8:\n",
    "    print(\"Auguest\")\n",
    "elif mnt==9:\n",
    "    print(\"September\")\n",
    "elif mnt==10:\n",
    "    print(\"October\")\n",
    "elif mnt==11:\n",
    "    print(\"November\")\n",
    "elif mnt==12:\n",
    "    print(\"December\")\n",
    "else:\n",
    "    print(\"Please enter a valid number \")"
   ]
  },
  {
   "cell_type": "code",
   "execution_count": null,
   "id": "f143aefc",
   "metadata": {},
   "outputs": [],
   "source": []
  }
 ],
 "metadata": {
  "kernelspec": {
   "display_name": "Python 3",
   "language": "python",
   "name": "python3"
  },
  "language_info": {
   "codemirror_mode": {
    "name": "ipython",
    "version": 3
   },
   "file_extension": ".py",
   "mimetype": "text/x-python",
   "name": "python",
   "nbconvert_exporter": "python",
   "pygments_lexer": "ipython3",
   "version": "3.8.8"
  }
 },
 "nbformat": 4,
 "nbformat_minor": 5
}
